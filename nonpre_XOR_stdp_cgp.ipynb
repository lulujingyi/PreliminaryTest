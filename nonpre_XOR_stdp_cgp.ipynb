{
  "nbformat": 4,
  "nbformat_minor": 0,
  "metadata": {
    "colab": {
      "name": "nonpre_XOR_stdp_cgp.ipynb",
      "provenance": [],
      "collapsed_sections": [],
      "authorship_tag": "ABX9TyMNppzrXGKTxorqHgy249Uw",
      "include_colab_link": true
    },
    "kernelspec": {
      "display_name": "Python 3",
      "name": "python3"
    },
    "language_info": {
      "name": "python"
    }
  },
  "cells": [
    {
      "cell_type": "markdown",
      "metadata": {
        "id": "view-in-github",
        "colab_type": "text"
      },
      "source": [
        "<a href=\"https://colab.research.google.com/github/lulujingyi/PreliminaryTest/blob/main/nonpre_XOR_stdp_cgp.ipynb\" target=\"_parent\"><img src=\"https://colab.research.google.com/assets/colab-badge.svg\" alt=\"Open In Colab\"/></a>"
      ]
    },
    {
      "cell_type": "code",
      "metadata": {
        "colab": {
          "base_uri": "https://localhost:8080/"
        },
        "id": "_GsvuT1_fg-J",
        "outputId": "74a7afc8-35ce-49a5-806f-e41e6cc3bfe5"
      },
      "source": [
        "from google.colab import drive\n",
        "import os\n",
        "drive.mount('/content/gdrive')\n",
        "import sys\n",
        "sys.path.insert(0,\"/content/gdrive/My Drive/MasterThesis/hal-cgp-master\")"
      ],
      "execution_count": null,
      "outputs": [
        {
          "output_type": "stream",
          "text": [
            "Mounted at /content/gdrive\n"
          ],
          "name": "stdout"
        }
      ]
    },
    {
      "cell_type": "code",
      "metadata": {
        "id": "DanGnMnG5udW"
      },
      "source": [
        "import cgp\n",
        "import functools\n",
        "import warnings\n",
        "import numpy as np\n",
        "\n",
        "import math\n",
        "from typing import Dict, Optional, Tuple, NamedTuple, Any, Sequence\n",
        "\n",
        "import torch\n",
        "import torch.nn as nn\n",
        "import torch.nn.functional as F\n",
        "import matplotlib.pyplot as plt"
      ],
      "execution_count": null,
      "outputs": []
    },
    {
      "cell_type": "code",
      "metadata": {
        "id": "lGWOhIEb5zm0"
      },
      "source": [
        "# time constants (in ms)\n",
        "TAU_V = 10.0  # voltage\n",
        "V_DECAY = torch.exp(-1.0 / torch.tensor(TAU_V))\n",
        "TAU_I = 2.0  # current\n",
        "I_DECAY = torch.exp(-1.0 / torch.tensor(TAU_I))\n",
        "TAU_O1 = 20.0  # neuron trace1. 5,10,15,20,30,40\n",
        "TAU_O2= 40.0  # neuron trace2.  10,20,30,40,60,80\n",
        "O_DECAY1 = torch.exp(-1.0 / torch.tensor(TAU_O1))\n",
        "O_DECAY2 = torch.exp(-1.0 / torch.tensor(TAU_O2))\n",
        "TAU_E = 100.0 # synapse trace (from paper)\n",
        "E_DECAY = torch.exp(-1.0 / torch.tensor(TAU_E))\n",
        "# thresh\n",
        "THRESH = torch.tensor(1.0)\n",
        "\n",
        "# inputs\n",
        "\n",
        "N = 2    # neurons in spiking pop\n",
        "M = 10   # sequences\n",
        "T = 50   # length of single seq 500\n",
        "F = 20    # spike freq  30\n",
        "\n",
        "# learning\n",
        "ETA = 0.001\n",
        "EPOCHS = 300"
      ],
      "execution_count": null,
      "outputs": []
    },
    {
      "cell_type": "code",
      "metadata": {
        "id": "hWB_UUDJYkBV"
      },
      "source": [
        "class SpikeFunction(torch.autograd.Function):\n",
        "    \"\"\"\n",
        "    Spiking function with rectangular gradient.\n",
        "    Source: https://www.frontiersin.org/articles/10.3389/fnins.2018.00331/full\n",
        "    Implementation: https://github.com/combra-lab/pop-spiking-deep-rl/blob/main/popsan_drl/popsan_td3/popsan.py\n",
        "    \"\"\"\n",
        "\n",
        "    @staticmethod\n",
        "    def forward(ctx: Any, v: torch.Tensor) -> torch.Tensor:\n",
        "        ctx.save_for_backward(v)  # save voltage - thresh for backwards pass\n",
        "        return v.gt(0.0).float()\n",
        "\n",
        "    @staticmethod\n",
        "    def backward(ctx: Any, grad_output: torch.Tensor) -> Tuple[torch.Tensor, ...]:\n",
        "        v, = ctx.saved_tensors\n",
        "        grad_input = grad_output.clone()\n",
        "        spike_pseudo_grad = (v.abs() < 0.5).float()  # 0.5 is the width of the rectangle\n",
        "        return grad_input * spike_pseudo_grad, None  # ensure a tuple is returned"
      ],
      "execution_count": null,
      "outputs": []
    },
    {
      "cell_type": "code",
      "metadata": {
        "id": "ZpgsxNk11c6p"
      },
      "source": [
        "class LIFState(NamedTuple):\n",
        "    z: torch.Tensor\n",
        "    v: torch.Tensor\n",
        "    i: torch.Tensor\n",
        "    o1: torch.Tensor\n",
        "    o2: torch.Tensor\n",
        "\n",
        "class LIF(nn.Module):\n",
        "    \"\"\"\n",
        "    Leaky-integrate-and-fire neuron with learnable parameters.\n",
        "    \"\"\"\n",
        "\n",
        "    def __init__(self, size: int):\n",
        "        super().__init__()\n",
        "        self.size = size\n",
        "        # Initialize all parameters randomly as U(0, 1)\n",
        "        self.i_decay = torch.ones(size)*I_DECAY #self.i_decay = nn.Parameter(torch.rand(size))\n",
        "        self.v_decay = torch.ones(size)*V_DECAY\n",
        "        self.o_decay1 = torch.ones(size)*O_DECAY1\n",
        "        self.o_decay2 = torch.ones(size)*O_DECAY2\n",
        "        self.thresh = torch.ones(size)*THRESH\n",
        "        self.spike = SpikeFunction.apply  # spike function\n",
        "\n",
        "\n",
        "    def forward(\n",
        "        self,\n",
        "        synapse: nn.Module,\n",
        "        z: torch.Tensor,\n",
        "        state: Optional[LIFState] = None,\n",
        "    ) -> Tuple[torch.Tensor, LIFState]:\n",
        "        # Previous state\n",
        "        if state is None:\n",
        "            state = LIFState(\n",
        "                z=torch.zeros_like(synapse(z)),\n",
        "                v=torch.zeros_like(synapse(z)),\n",
        "                i=torch.zeros_like(synapse(z)),\n",
        "                o1=torch.zeros_like(synapse(z)),\n",
        "                o2=torch.zeros_like(synapse(z)),\n",
        "            )\n",
        "        # Update state\n",
        "        i = state.i * self.i_decay + synapse(z)\n",
        "        v = state.v * self.v_decay * (1.0 - state.z) + i\n",
        "        z = self.spike(v - self.thresh)\n",
        "        o1 = state.o1 * self.o_decay1 - z\n",
        "        o2 = state.o2 * self.o_decay2 - z\n",
        "\n",
        "        return z, LIFState(z, v, i, o1, o2)"
      ],
      "execution_count": null,
      "outputs": []
    },
    {
      "cell_type": "code",
      "metadata": {
        "id": "uXeUNacn4xgv"
      },
      "source": [
        "class SpikingMLP(nn.Module):\n",
        "    \"\"\"\n",
        "    Spiking network with LIF neuron model.\n",
        "    \"\"\"\n",
        "\n",
        "    def __init__(self, sizes: Sequence[int]):\n",
        "        super().__init__()\n",
        "        self.sizes = sizes\n",
        "        self.spike = SpikeFunction.apply\n",
        "\n",
        "        # Define layers\n",
        "        self.synapses = nn.ModuleList()\n",
        "        self.neurons = nn.ModuleList()\n",
        "        self.states = []\n",
        "        # Loop over current (accessible with 'size') and next (accessible with 'sizes[i]') element\n",
        "        for i, size in enumerate(sizes[:-1], start=1):\n",
        "            # Parameters of synapses and neurons are randomly initialized\n",
        "            self.synapses.append(nn.Linear(size, sizes[i], bias=False))\n",
        "            self.neurons.append(LIF(sizes[i]))\n",
        "            self.states.append(None)\n",
        "           \n",
        "\n",
        "    def forward(self, z: torch.Tensor) -> torch.Tensor:\n",
        "        for i, (neuron, synapse) in enumerate(zip(self.neurons, self.synapses)):\n",
        "            z, self.states[i] = neuron(synapse, z, self.states[i])\n",
        "        return z\n",
        "\n",
        "    def reset(self):\n",
        "        \"\"\"\n",
        "        Resetting states when you're done is very important!\n",
        "        \"\"\"\n",
        "        for i, _ in enumerate(self.states):\n",
        "            self.states[i] = None"
      ],
      "execution_count": null,
      "outputs": []
    },
    {
      "cell_type": "code",
      "metadata": {
        "id": "Og-9ZqCs9zhM"
      },
      "source": [
        "def encoding(inp):\n",
        "    #height, width = x.shape\n",
        "    inp = inp.unsqueeze(-1)\n",
        "    rate = 0.2\n",
        "    return (torch.rand((len(inp),T))<(inp*rate+0.1)).float()"
      ],
      "execution_count": null,
      "outputs": []
    },
    {
      "cell_type": "code",
      "metadata": {
        "id": "njregcZbBMuw"
      },
      "source": [
        "def generate_input():\n",
        "  data = torch.zeros([M,T,2])\n",
        "  x = torch.randint(2, (M, 2)).float()\n",
        "  targets = (x.sum(-1) == 1).float()\n",
        "  for i in range(M):\n",
        "    data[i] = encoding(x[i]).reshape(T,2)\n",
        "  return targets,data\n",
        "#targets,data = generate_input()\n",
        "#SIZE: 10,50,2 (m,t,2)"
      ],
      "execution_count": null,
      "outputs": []
    },
    {
      "cell_type": "code",
      "metadata": {
        "id": "nBZR-QX36Fr6"
      },
      "source": [
        "def learn(f,i,t, ETA, E11, E12, E21, E22, E31, E32, z1, z2, z3, reward, W):\n",
        "    w1 = torch.zeros_like(W[0])\n",
        "    for p in range(w1.size()[1]):\n",
        "        for q in range(w1.size()[0]):\n",
        "            w1[q][p] = torch.tensor(f([E11[i,t,p],E12[i,t,p],E21[q],E22[q],z1[i,t,p],z2[q], reward]))*ETA          \n",
        "\n",
        "    w2 = torch.zeros_like(W[1])\n",
        "    for p in range(w2.size()[1]):\n",
        "        for q in range(w2.size()[0]):\n",
        "            w2[q][p] = torch.tensor(f([E21[p], E22[p], E31[q], E32[q], z2[p], z3[q], reward]))*ETA\n",
        "    return w1,w2\n",
        "\n",
        "\n",
        "def get_reward(z: torch.Tensor, label: int) -> Tuple[int, int]:\n",
        "    # return reward and correct for counter\n",
        "    #If the correct output was 1,the network received a reward r = 1 for each output spike emitted and 0 otherwise\n",
        "    #If the correct output was 0, the network received a negative reward (punishment) r = −1 for each output spike and 0 otherwise.\n",
        "    if z.item() == 1:\n",
        "        if label == 1:\n",
        "            return 1 \n",
        "        else:\n",
        "            return -1  \n",
        "    elif z.item() == 0:\n",
        "        return 0  \n",
        "    else:\n",
        "        raise ValueError(\"y negative\")"
      ],
      "execution_count": null,
      "outputs": []
    },
    {
      "cell_type": "code",
      "metadata": {
        "colab": {
          "base_uri": "https://localhost:8080/"
        },
        "id": "Xh5xVHRF5KCA",
        "outputId": "0e51995a-d044-429f-f378-a181bfce75e2"
      },
      "source": [
        "sizes = [2,5,1]\n",
        "snn = SpikingMLP(sizes)\n",
        "snn(torch.ones(2))\n",
        "print(snn.states[0][0])"
      ],
      "execution_count": null,
      "outputs": [
        {
          "output_type": "stream",
          "text": [
            "tensor([0., 0., 0., 0., 0.], grad_fn=<SpikeFunctionBackward>)\n"
          ],
          "name": "stdout"
        }
      ]
    },
    {
      "cell_type": "code",
      "metadata": {
        "id": "_ySPKmgB7IRh"
      },
      "source": [
        "  targets,data = generate_input()\n",
        "  traces1 = []\n",
        "  traces2 = []\n",
        "  # ugly\n",
        "  for i in range(data.shape[1]):\n",
        "      if i == 0:\n",
        "          traces1.append(data[:, i, :])\n",
        "          traces2.append(data[:, i, :])\n",
        "      else:\n",
        "          trace1 = traces1[-1] * O_DECAY1 + data[:, i, :] \n",
        "          traces1.append(trace1)\n",
        "          trace2 = traces2[-1] * O_DECAY2 + data[:, i, :] \n",
        "          traces2.append(trace2)\n",
        "  traces1 = torch.stack(traces1, dim=1)\n",
        "  traces2 = torch.stack(traces2, dim=1)"
      ],
      "execution_count": null,
      "outputs": []
    },
    {
      "cell_type": "code",
      "metadata": {
        "colab": {
          "base_uri": "https://localhost:8080/"
        },
        "id": "c-lJjzzDSS5a",
        "outputId": "48407249-6eb3-4256-f108-9c5d90992e27"
      },
      "source": [
        "print(traces1.size())\n",
        "print(data.size())"
      ],
      "execution_count": null,
      "outputs": [
        {
          "output_type": "stream",
          "text": [
            "torch.Size([10, 50, 2])\n",
            "torch.Size([10, 50, 2])\n"
          ],
          "name": "stdout"
        }
      ]
    },
    {
      "cell_type": "code",
      "metadata": {
        "id": "QvKab9k9hKHT"
      },
      "source": [
        "def inner_objective(f,seed):  \n",
        "  torch.manual_seed(seed)\n",
        "  targets,data = generate_input()\n",
        "  traces1 = []\n",
        "  traces2 = []\n",
        "  # ugly\n",
        "  for i in range(data.shape[1]):\n",
        "      if i == 0:\n",
        "          traces1.append(data[:, i, :])\n",
        "          traces2.append(data[:, i, :])\n",
        "      else:\n",
        "          trace1 = traces1[-1] * O_DECAY1 + data[:, i, :] \n",
        "          traces1.append(trace1)\n",
        "          trace2 = traces2[-1] * O_DECAY2 + data[:, i, :] \n",
        "          traces2.append(trace2)\n",
        "  traces1 = torch.stack(traces1, dim=1)\n",
        "  traces2 = torch.stack(traces2, dim=1)\n",
        "  param = {}\n",
        "  # weights from N(0, 1000) like in paper, sparsity of 0.2 (20% of connections zero)\n",
        "  param[\"W\"] = torch.randn(1, N) * 10 * (torch.rand(1, N) < 0.8).float()\n",
        "  #print(param)\n",
        "  acc = []\n",
        "  fit = []\n",
        "  ne = 140\n",
        "  nf = 10\n",
        "  sizes = [2,5,1]\n",
        "  snn = SpikingMLP(sizes)\n",
        "  for e in range(ne):\n",
        "      correct = 0\n",
        "      ytab = []\n",
        "      for i in range(M):\n",
        "          s = None\n",
        "          y = 0\n",
        "          E = None  # trace from paper\n",
        "          for t in range(T): #T\n",
        "              #if E is None:\n",
        "                  #E = torch.zeros_like(param[\"W\"])\n",
        "              #z, s = forward(data[i, t], s, param)\n",
        "              z = snn(data[i,t])\n",
        "              y += z\n",
        "              #xi = traces[i, t] * z + s[3] * data[i, t] \n",
        "              #E = E * E_DECAY + xi  \n",
        "              reward = get_reward(z, targets[i])\n",
        "              w1, w2 = learn(f,i,t, ETA, traces1, traces2, snn.states[0][3], snn.states[0][4], snn.states[1][3], snn.states[1][4], data, snn.states[0][0], snn.states[1][0], reward, list(snn.parameters()))\n",
        "              #dw = torch.tensor(f([ETA,E,reward])) #ETA*E*reward\n",
        "              #print(dw)\n",
        "              for idx,w in enumerate(snn.parameters()):\n",
        "                  if idx == 0:\n",
        "                      w.data = w1 + w.data\n",
        "                  else:\n",
        "                      w.data = w2 + w.data\n",
        "          ytab.append(y.item())\n",
        "          \n",
        "      predictions = torch.Tensor([1 if n > sum(ytab)/M else 0 for n in ytab])\n",
        "      correct = int(M-sum(abs(predictions-targets)).item())\n",
        "      acc.append(correct/M)\n",
        "      #print(f\"epoch {e}: {correct}/{M}\")\n",
        "      if e >= (ne - nf):\n",
        "        fit.append(correct)\n",
        "  fitness = sum(fit)/nf     \n",
        "  print('finish training')   \n",
        "  return fitness"
      ],
      "execution_count": null,
      "outputs": []
    },
    {
      "cell_type": "code",
      "metadata": {
        "id": "Y4dsMv4wjlao"
      },
      "source": [
        "def objective(ind,seed):\n",
        "    if not ind.fitness_is_None():\n",
        "      return ind\n",
        "    f = ind.to_func()\n",
        "    try:\n",
        "      with warnings.catch_warnings():\n",
        "            warnings.filterwarnings(\n",
        "                \"ignore\", message=\"divide by zero encountered in double_scalars\"\n",
        "            )\n",
        "            warnings.filterwarnings(\n",
        "                \"ignore\", message=\"invalid value encountered in double_scalars\"\n",
        "            )\n",
        "            accuracy = inner_objective(f,seed)\n",
        "      ind.fitness = accuracy\n",
        "    except ZeroDivisionError:\n",
        "      ind.fitness = -np.inf\n",
        "    return ind"
      ],
      "execution_count": null,
      "outputs": []
    },
    {
      "cell_type": "code",
      "metadata": {
        "id": "R3Nv_DQJwU7l"
      },
      "source": [
        "def evolve(seed):\n",
        "\n",
        "    population_params = {\"n_parents\": 2, \"seed\": seed}\n",
        "\n",
        "    genome_params = {\n",
        "        \"n_inputs\": 7,\n",
        "        \"n_outputs\": 1,\n",
        "        \"n_columns\": 12,\n",
        "        \"n_rows\": 2,\n",
        "        \"levels_back\": 5,\n",
        "        \"primitives\": (\n",
        "            cgp.Add,\n",
        "            cgp.Sub,\n",
        "            cgp.Mul,\n",
        "            cgp.Div,\n",
        "            cgp.ConstantFloat,\n",
        "        ),\n",
        "    }\n",
        "\n",
        "    ea_params = {\"n_offsprings\": 4, \"tournament_size\": 1, \"mutation_rate\": 0.03, \"n_processes\": 3}\n",
        "\n",
        "    evolve_params = {\"max_generations\": 100, \"min_fitness\": 30.0}\n",
        "\n",
        "    pop = cgp.Population(**population_params, genome_params=genome_params)\n",
        "\n",
        "    ea = cgp.ea.MuPlusLambda(**ea_params)\n",
        "\n",
        "    history = {}\n",
        "    history[\"expr_champion\"] = []\n",
        "    history[\"fitness_champion\"] = []\n",
        "\n",
        "    def recording_callback(pop):\n",
        "        history[\"expr_champion\"].append(pop.champion.to_sympy())\n",
        "        history[\"fitness_champion\"].append(pop.champion.fitness)\n",
        "\n",
        "    obj = functools.partial(objective, seed=population_params[\"seed\"])\n",
        "\n",
        "    cgp.evolve(pop, obj, ea, **evolve_params, print_progress=True, callback=recording_callback)\n",
        "\n",
        "    return history, pop.champion"
      ],
      "execution_count": null,
      "outputs": []
    },
    {
      "cell_type": "code",
      "metadata": {
        "colab": {
          "background_save": true,
          "base_uri": "https://localhost:8080/"
        },
        "id": "d7V_QwviUoTd",
        "outputId": "62289d8a-de02-4162-d6c7-f09b254c5bbe"
      },
      "source": [
        "seed = 0\n",
        "history, champion = evolve(seed)\n",
        "print(history)"
      ],
      "execution_count": null,
      "outputs": [
        {
          "output_type": "stream",
          "text": [
            "finish training\n",
            "finish training\n",
            "finish training\n",
            "[2/100] max fitness: 5.0\u001b[Kfinish training\n",
            "[3/100] max fitness: 5.0\u001b[Kfinish training\n",
            "finish training\n",
            "[5/100] max fitness: 5.0\u001b[Kfinish training\n",
            "finish training\n",
            "finish training\n",
            "[6/100] max fitness: 5.0\u001b[Kfinish training\n",
            "finish training\n",
            "[7/100] max fitness: 5.0\u001b[Kfinish training\n",
            "[9/100] max fitness: 5.0\u001b[Kfinish training\n",
            "finish training\n",
            "finish training\n",
            "[10/100] max fitness: 5.0\u001b[Kfinish training\n",
            "finish training\n",
            "[11/100] max fitness: 5.0\u001b[Kfinish training\n",
            "[12/100] max fitness: 5.0\u001b[Kfinish training\n",
            "finish training\n",
            "finish training\n",
            "[14/100] max fitness: 5.0\u001b[Kfinish training\n",
            "finish training\n",
            "[15/100] max fitness: 5.0\u001b[Kfinish training\n",
            "[49/100] max fitness: 5.0\u001b[Kfinish training\n",
            "[53/100] max fitness: 5.0\u001b[Kfinish training\n",
            "[55/100] max fitness: 5.0\u001b[Kfinish training\n",
            "[57/100] max fitness: 5.0\u001b[Kfinish training\n",
            "[70/100] max fitness: 5.0\u001b[Kfinish training\n",
            "[76/100] max fitness: 5.0\u001b[Kfinish training\n",
            "[80/100] max fitness: 5.0\u001b[Kfinish training\n",
            "[81/100] max fitness: 5.0\u001b[Kfinish training\n",
            "[85/100] max fitness: 5.0\u001b[Kfinish training\n",
            "[87/100] max fitness: 5.0\u001b[Kfinish training\n",
            "[88/100] max fitness: 5.0\u001b[Kfinish training\n",
            "finish training\n",
            "[91/100] max fitness: 5.0\u001b[Kfinish training\n",
            "finish training\n",
            "[92/100] max fitness: 5.0\u001b[Kfinish training\n",
            "[93/100] max fitness: 5.0\u001b[Kfinish training\n",
            "[94/100] max fitness: 5.0\u001b[Kfinish training\n",
            "[95/100] max fitness: 5.0\u001b[Kfinish training\n",
            "[96/100] max fitness: 5.0\u001b[Kfinish training\n",
            "finish training\n",
            "[97/100] max fitness: 5.0\u001b[Kfinish training\n",
            "[98/100] max fitness: 5.0\u001b[Kfinish training\n",
            "finish training\n",
            "finish training\n",
            "[99/100] max fitness: 5.0\u001b[Kfinish training\n",
            "finish training\n",
            "[100/100] max fitness: 5.0\u001b[K\n",
            "{'expr_champion': [[x_6 - 1.0], [x_4*(2*x_0 - x_3)/x_2], [x_4*(2*x_0 - x_3)/x_2], [x_4*(2*x_0 - x_3)/x_2], [-x_1*(x_0 - x_3)*(x_1 + x_2)/x_2], [1.0*x_0*x_4], [1.0*x_0*x_4 - 1.0], [1.0*x_0*x_4 - 1.0], [1.0*x_0*x_4 - 1.0], [2.0*x_0*x_4 - 1.0*x_3*x_4 - 1.0], [1.0*x_0*x_4 - 1.0*x_2*x_4 - 1.0], [1.0*x_0*x_4 - 1.0*x_2*x_4 - 1.0], [-x_0 - x_1 + x_4*(x_0 - x_2)], [x_0], [x_0], [x_0], [x_1 + x_3 + x_4*(x_0 - x_2) - x_4 - (x_0 + x_1)*(x_1 + x_3 - x_4)], [x_0], [x_0], [x_0], [x_0], [x_0], [x_0], [x_0], [x_0], [x_0], [x_0], [x_0], [x_0], [x_0], [x_0], [x_0], [x_0], [x_0], [x_0], [x_0], [x_0], [x_0], [x_0], [x_0], [x_0], [x_0], [x_0], [x_0], [x_0], [x_0], [x_0], [x_0], [x_0], [x_0], [x_0], [x_0], [x_0], [x_0], [1.0*x_1 - x_3*(x_2 + 1.0)], [1.0*x_1 - x_3*(x_2 + 1.0)], [x_0], [x_0], [x_0], [x_0], [x_0], [x_0], [x_0], [x_0], [x_0], [x_0], [x_0], [x_0], [x_0], [x_0], [x_0], [x_0], [x_0], [x_0], [x_0], [x_0], [x_0], [x_3 - x_5], [x_0], [x_3 - x_5], [x_1], [x_1 + x_3], [x_1 + x_3], [x_1 + x_3], [x_1 + x_3], [x_1 + x_3], [x_1 + x_4], [x_1 + x_4], [x_1 + x_4], [x_1 + x_4], [x_1 + x_4], [x_1 + x_4], [1.00000000000000], [x_1 + x_4], [x_1 + x_4], [x_1 + x_4], [(x_0 + x_2*(x_3*(-x_1 + x_4 + 1.0) - 1.0))/x_2], [(x_0 + x_4*(x_3*(x_1 + x_4 + 1.0) - 1.0))/x_4], [(x_0 + x_4*(x_3*(x_4 + 1.0) - 1.0))/x_4], [x_0 + x_4]], 'fitness_champion': [5.0, 5.0, 5.0, 5.0, 5.0, 5.0, 5.0, 5.0, 5.0, 5.0, 5.0, 5.0, 5.0, 5.0, 5.0, 5.0, 5.0, 5.0, 5.0, 5.0, 5.0, 5.0, 5.0, 5.0, 5.0, 5.0, 5.0, 5.0, 5.0, 5.0, 5.0, 5.0, 5.0, 5.0, 5.0, 5.0, 5.0, 5.0, 5.0, 5.0, 5.0, 5.0, 5.0, 5.0, 5.0, 5.0, 5.0, 5.0, 5.0, 5.0, 5.0, 5.0, 5.0, 5.0, 5.0, 5.0, 5.0, 5.0, 5.0, 5.0, 5.0, 5.0, 5.0, 5.0, 5.0, 5.0, 5.0, 5.0, 5.0, 5.0, 5.0, 5.0, 5.0, 5.0, 5.0, 5.0, 5.0, 5.0, 5.0, 5.0, 5.0, 5.0, 5.0, 5.0, 5.0, 5.0, 5.0, 5.0, 5.0, 5.0, 5.0, 5.0, 5.0, 5.0, 5.0, 5.0, 5.0, 5.0, 5.0, 5.0]}\n"
          ],
          "name": "stdout"
        }
      ]
    },
    {
      "cell_type": "code",
      "metadata": {
        "colab": {
          "base_uri": "https://localhost:8080/"
        },
        "id": "q-9l9vhanfTI",
        "outputId": "98cdaf71-5176-4f14-f750-40a12b84b58b"
      },
      "source": [
        "seed = 1\n",
        "history, champion = evolve(seed)\n",
        "print(history)"
      ],
      "execution_count": null,
      "outputs": [
        {
          "output_type": "stream",
          "text": [
            "finish training\n",
            "finish training\n",
            "finish training\n",
            "[2/100] max fitness: 5.0\u001b[Kfinish training\n",
            "finish training\n",
            "[4/100] max fitness: 5.0\u001b[Kfinish training\n",
            "[5/100] max fitness: 5.0\u001b[Kfinish training\n",
            "[6/100] max fitness: 5.0\u001b[Kfinish training\n",
            "finish training\n",
            "[7/100] max fitness: 5.0\u001b[Kfinish training\n",
            "[8/100] max fitness: 5.0\u001b[Kfinish training\n",
            "finish training\n",
            "[9/100] max fitness: 5.0\u001b[Kfinish training\n",
            "[12/100] max fitness: 5.0\u001b[Kfinish training\n",
            "[13/100] max fitness: 5.0\u001b[Kfinish training\n",
            "[14/100] max fitness: 5.0\u001b[Kfinish training\n",
            "finish training\n",
            "[16/100] max fitness: 5.0\u001b[Kfinish training\n",
            "[18/100] max fitness: 5.0\u001b[Kfinish training\n",
            "finish training\n",
            "[22/100] max fitness: 5.0\u001b[Kfinish training\n",
            "[23/100] max fitness: 5.0\u001b[Kfinish training\n",
            "[24/100] max fitness: 5.0\u001b[Kfinish training\n",
            "[25/100] max fitness: 5.0\u001b[Kfinish training\n",
            "[26/100] max fitness: 5.0\u001b[Kfinish training\n",
            "[27/100] max fitness: 5.0\u001b[Kfinish training\n",
            "[29/100] max fitness: 5.0\u001b[Kfinish training\n",
            "[30/100] max fitness: 5.0\u001b[Kfinish training\n",
            "[32/100] max fitness: 5.0\u001b[Kfinish training\n",
            "finish training\n",
            "[34/100] max fitness: 5.0\u001b[Kfinish training\n",
            "finish training\n",
            "[36/100] max fitness: 5.0\u001b[Kfinish training\n",
            "finish training\n",
            "[37/100] max fitness: 5.0\u001b[Kfinish training\n",
            "[39/100] max fitness: 5.0\u001b[Kfinish training\n",
            "[40/100] max fitness: 5.0\u001b[Kfinish training\n",
            "[41/100] max fitness: 5.0\u001b[Kfinish training\n",
            "finish training\n",
            "[42/100] max fitness: 5.0\u001b[Kfinish training\n",
            "[43/100] max fitness: 5.0\u001b[Kfinish training\n",
            "finish training\n",
            "finish training\n",
            "finish training\n",
            "[44/100] max fitness: 5.0\u001b[Kfinish training\n",
            "finish training\n",
            "finish training\n",
            "[47/100] max fitness: 5.0\u001b[Kfinish training\n",
            "[48/100] max fitness: 5.0\u001b[Kfinish training\n",
            "[49/100] max fitness: 5.0\u001b[Kfinish training\n",
            "finish training\n",
            "[50/100] max fitness: 5.0\u001b[Kfinish training\n",
            "[52/100] max fitness: 5.0\u001b[Kfinish training\n",
            "[53/100] max fitness: 5.0\u001b[Kfinish training\n",
            "[54/100] max fitness: 5.0\u001b[Kfinish training\n",
            "finish training\n",
            "[55/100] max fitness: 5.0\u001b[Kfinish training\n",
            "[56/100] max fitness: 5.0\u001b[Kfinish training\n",
            "finish training\n",
            "[57/100] max fitness: 5.0\u001b[Kfinish training\n",
            "[58/100] max fitness: 5.0\u001b[Kfinish training\n",
            "[59/100] max fitness: 5.0\u001b[Kfinish training\n",
            "[60/100] max fitness: 5.0\u001b[Kfinish training\n",
            "finish training\n",
            "[62/100] max fitness: 5.0\u001b[Kfinish training\n",
            "[63/100] max fitness: 5.0\u001b[Kfinish training\n",
            "finish training\n",
            "finish training\n",
            "[64/100] max fitness: 5.0\u001b[Kfinish training\n",
            "finish training\n",
            "[65/100] max fitness: 5.0\u001b[Kfinish training\n",
            "[66/100] max fitness: 5.0\u001b[Kfinish training\n",
            "finish training\n",
            "finish training\n",
            "[67/100] max fitness: 5.0\u001b[Kfinish training\n",
            "finish training\n",
            "[69/100] max fitness: 5.0\u001b[Kfinish training\n",
            "finish training\n",
            "[71/100] max fitness: 5.0\u001b[Kfinish training\n",
            "[75/100] max fitness: 5.0\u001b[Kfinish training\n",
            "finish training\n",
            "[76/100] max fitness: 5.0\u001b[Kfinish training\n",
            "[79/100] max fitness: 5.0\u001b[Kfinish training\n",
            "[80/100] max fitness: 5.0\u001b[Kfinish training\n",
            "[86/100] max fitness: 5.0\u001b[Kfinish training\n",
            "[88/100] max fitness: 5.0\u001b[Kfinish training\n",
            "[94/100] max fitness: 5.0\u001b[Kfinish training\n",
            "[95/100] max fitness: 5.0\u001b[Kfinish training\n",
            "[96/100] max fitness: 5.0\u001b[Kfinish training\n",
            "[97/100] max fitness: 5.0\u001b[Kfinish training\n",
            "[99/100] max fitness: 5.0\u001b[Kfinish training\n",
            "[100/100] max fitness: 5.0\u001b[K\n",
            "{'expr_champion': [[1.0*(-x_0 + x_1)/x_4], [1.0*(-x_0 + x_1)/x_4], [1.0*(-x_0 + x_1)/x_4], [1.0*(-x_0 + x_1)/x_4], [1.0*x_4*(-x_0 + x_1)], [1.0*x_4*(-x_0 + x_1)], [1.0*x_2*(-x_0 + x_1)], [1.0*x_4*(-x_0 + x_1)], [1.00000000000000], [1.00000000000000], [1.00000000000000], [1.00000000000000], [1.00000000000000], [1.00000000000000], [1.00000000000000], [2.00000000000000], [1.00000000000000], [1.00000000000000], [1.00000000000000], [1.00000000000000], [1.00000000000000], [1.00000000000000], [1.00000000000000], [1.00000000000000], [1.0*x_1], [1.0*x_1], [1.0*x_1], [1.0*x_1], [1.0*x_1], [1.0*x_1], [x_1*x_4], [1.0*x_1], [x_2**2*(x_0*x_3 - x_4)/(x_0*x_6)], [x_2**2*(x_0*x_3 - x_4)/(x_0*x_6)], [x_2**2*(x_0*x_3 - x_4)/(x_0*x_6)], [1.0*x_2**2/x_6], [1.0*x_2], [1.0*x_2], [1.0*x_2], [1.0*x_2], [1.0*x_2], [1.0*x_2], [1.0*x_2*(-x_0 + x_3 - x_5)/x_6], [1.0*x_1*(-x_0 + x_3 - x_5)/x_6], [1.00000000000000], [1.00000000000000], [1.0*x_1*(-x_0 + x_3 - x_5)/x_6], [1.0*x_1*(-x_0 + x_3 - x_5)/x_6], [1.0*x_1*(-x_0 + x_3 - x_5)/x_6], [1.0*x_1*(-x_0 + x_3 - x_5)/x_6], [1.0*x_1*(-x_0 + x_3 - x_5)/x_6], [1.0*x_1*(-x_0 + x_3 - x_5)/x_6], [1.0*x_1*(-x_0 + x_3 - x_5)/x_6], [1.0*x_1*(-x_0 + x_3 - x_5)/x_6], [1.00000000000000], [1.00000000000000], [1.00000000000000], [1.00000000000000], [1.00000000000000], [x_5/x_4], [1.00000000000000], [x_5/x_4], [1.00000000000000], [1.00000000000000], [1/x_5], [1/x_5], [1.0*(-x_2 + x_6*(x_3*x_5 + x_4))**4/x_6**4], [x_0/(x_5*x_6)], [x_1/x_6], [x_1/x_6], [x_1/x_6], [x_1/x_6], [x_1/x_6], [x_1/x_6], [x_1/x_6], [x_1*x_6], [x_3*x_6], [x_3*x_6], [x_3*x_6], [x_3*x_6], [x_3*x_6], [x_3*x_6], [x_3*x_6], [x_3*x_6], [x_3*x_6], [x_3*x_6], [x_3*x_6], [x_3*x_6], [x_3*x_6], [x_3*x_6], [x_3*x_6], [x_3*x_6], [x_3*x_6], [x_3*x_6], [x_3*x_6], [x_0*x_3/x_1], [x_3*x_6], [x_0*x_4*(x_2 + 1)/(x_1*x_2)], [x_0*x_3/x_1], [2*x_0 + x_4]], 'fitness_champion': [5.0, 5.0, 5.0, 5.0, 5.0, 5.0, 5.0, 5.0, 5.0, 5.0, 5.0, 5.0, 5.0, 5.0, 5.0, 5.0, 5.0, 5.0, 5.0, 5.0, 5.0, 5.0, 5.0, 5.0, 5.0, 5.0, 5.0, 5.0, 5.0, 5.0, 5.0, 5.0, 5.0, 5.0, 5.0, 5.0, 5.0, 5.0, 5.0, 5.0, 5.0, 5.0, 5.0, 5.0, 5.0, 5.0, 5.0, 5.0, 5.0, 5.0, 5.0, 5.0, 5.0, 5.0, 5.0, 5.0, 5.0, 5.0, 5.0, 5.0, 5.0, 5.0, 5.0, 5.0, 5.0, 5.0, 5.0, 5.0, 5.0, 5.0, 5.0, 5.0, 5.0, 5.0, 5.0, 5.0, 5.0, 5.0, 5.0, 5.0, 5.0, 5.0, 5.0, 5.0, 5.0, 5.0, 5.0, 5.0, 5.0, 5.0, 5.0, 5.0, 5.0, 5.0, 5.0, 5.0, 5.0, 5.0, 5.0, 5.0]}\n"
          ],
          "name": "stdout"
        }
      ]
    },
    {
      "cell_type": "code",
      "metadata": {
        "colab": {
          "base_uri": "https://localhost:8080/"
        },
        "id": "acgJbHmoiDe7",
        "outputId": "8617e977-8b5f-4195-e918-8cbadfe42c4e"
      },
      "source": [
        "seed = 2\n",
        "history, champion = evolve(seed)\n",
        "print(history)"
      ],
      "execution_count": null,
      "outputs": [
        {
          "output_type": "stream",
          "text": [
            "finish training\n",
            "finish training\n",
            "finish training\n",
            "[2/100] max fitness: 4.0\u001b[Kfinish training\n",
            "finish training\n",
            "[4/100] max fitness: 4.0\u001b[Kfinish training\n",
            "[6/100] max fitness: 4.3\u001b[Kfinish training\n",
            "[7/100] max fitness: 4.3\u001b[Kfinish training\n",
            "[10/100] max fitness: 4.3\u001b[Kfinish training\n",
            "[11/100] max fitness: 4.3\u001b[Kfinish training\n",
            "[12/100] max fitness: 4.3\u001b[Kfinish training\n",
            "[15/100] max fitness: 4.3\u001b[Kfinish training\n",
            "[23/100] max fitness: 4.3\u001b[Kfinish training\n",
            "[25/100] max fitness: 4.3\u001b[Kfinish training\n",
            "[30/100] max fitness: 4.3\u001b[Kfinish training\n",
            "[32/100] max fitness: 4.3\u001b[Kfinish training\n",
            "[34/100] max fitness: 4.3\u001b[Kfinish training\n",
            "[35/100] max fitness: 4.3\u001b[Kfinish training\n",
            "[37/100] max fitness: 4.3\u001b[Kfinish training\n",
            "[39/100] max fitness: 4.3\u001b[Kfinish training\n",
            "[40/100] max fitness: 4.3\u001b[Kfinish training\n",
            "[44/100] max fitness: 4.3\u001b[Kfinish training\n",
            "finish training\n",
            "[48/100] max fitness: 4.3\u001b[Kfinish training\n",
            "[50/100] max fitness: 4.3\u001b[Kfinish training\n",
            "[52/100] max fitness: 4.3\u001b[Kfinish training\n",
            "finish training\n",
            "[54/100] max fitness: 4.3\u001b[Kfinish training\n",
            "finish training\n",
            "[56/100] max fitness: 4.3\u001b[Kfinish training\n",
            "[60/100] max fitness: 4.3\u001b[Kfinish training\n",
            "[63/100] max fitness: 4.3\u001b[Kfinish training\n",
            "[66/100] max fitness: 4.3\u001b[Kfinish training\n",
            "[67/100] max fitness: 4.3\u001b[Kfinish training\n",
            "finish training\n",
            "[70/100] max fitness: 4.3\u001b[Kfinish training\n",
            "[71/100] max fitness: 4.3\u001b[Kfinish training\n",
            "[74/100] max fitness: 4.3\u001b[Kfinish training\n",
            "[82/100] max fitness: 4.3\u001b[Kfinish training\n",
            "[83/100] max fitness: 4.3\u001b[Kfinish training\n",
            "[85/100] max fitness: 4.3\u001b[Kfinish training\n",
            "finish training\n",
            "[86/100] max fitness: 4.3\u001b[Kfinish training\n",
            "[88/100] max fitness: 4.3\u001b[Kfinish training\n",
            "[100/100] max fitness: 4.3\u001b[K\n",
            "{'expr_champion': [[-x_4 + x_5], [x_2/x_3 + x_4], [x_2 - x_3 + x_4], [x_2 - x_3 + x_4], [x_2 + x_4], [x_2 + x_4], [x_2 + x_4], [x_2 + x_4], [x_2 + x_4], [x_2 + x_4], [x_2 + x_4], [x_2 + x_4], [x_2 + x_4], [x_2 + x_4], [x_2 + x_4], [x_2 + x_4], [x_2 + x_4], [x_2 + x_4], [x_2 + x_4], [x_2 + x_4], [x_2 + x_4], [x_2 + x_4], [x_2 + x_4], [x_2 + x_4], [x_2 + x_4], [x_2 + x_4], [x_2 + x_4], [x_2 + x_4], [x_2 + x_4], [x_2 + x_4], [x_2 + x_4], [x_2 + x_4], [x_2 + x_4], [x_2 + x_4], [x_2 + x_4], [x_2 + x_4], [x_2 + x_4], [x_2 + x_4], [x_2 + x_4], [x_2 + x_4], [x_2 + x_4], [x_2 + x_4], [x_2 + x_4], [x_2 + x_4], [x_2 + x_4], [x_2 + x_4], [x_2 + x_4], [x_2 + x_4], [x_2 + x_4], [x_2 + x_4], [x_2 + x_4], [x_2 + x_4], [x_2 + x_4], [x_2 + x_4], [x_2 + x_4], [x_2 + x_4], [x_2 + x_4], [x_2 + x_4], [x_2 + x_4], [x_2 + x_4], [x_2 + x_4], [x_2 + x_4], [x_2 + x_4], [x_2 + x_4], [x_2 + x_4], [x_2 + x_4], [x_2 + x_4], [x_2 + x_4], [x_2 + x_4], [x_2 + x_4], [x_2 + x_4], [x_2 + x_4], [x_2 + x_4], [x_2 + x_4], [x_2 + x_4], [x_2 + x_4], [x_2 + x_4], [x_2 + x_4], [x_2 + x_4], [x_2 + x_4], [x_2 + x_4], [x_2 + x_4], [x_2 + x_4], [x_2 + x_4], [x_2 + x_4], [x_2 + x_4], [x_2 + x_4], [x_2 + x_4], [x_2 + x_4], [x_2 + x_4], [x_2 + x_4], [x_2 + x_4], [x_2 + x_4], [x_2 + x_4], [x_2 + x_4], [x_2 + x_4], [x_2 + x_4], [x_2 + x_4], [x_2 + x_4], [x_2 + x_4]], 'fitness_champion': [4.0, 4.0, 4.0, 4.0, 4.3, 4.3, 4.3, 4.3, 4.3, 4.3, 4.3, 4.3, 4.3, 4.3, 4.3, 4.3, 4.3, 4.3, 4.3, 4.3, 4.3, 4.3, 4.3, 4.3, 4.3, 4.3, 4.3, 4.3, 4.3, 4.3, 4.3, 4.3, 4.3, 4.3, 4.3, 4.3, 4.3, 4.3, 4.3, 4.3, 4.3, 4.3, 4.3, 4.3, 4.3, 4.3, 4.3, 4.3, 4.3, 4.3, 4.3, 4.3, 4.3, 4.3, 4.3, 4.3, 4.3, 4.3, 4.3, 4.3, 4.3, 4.3, 4.3, 4.3, 4.3, 4.3, 4.3, 4.3, 4.3, 4.3, 4.3, 4.3, 4.3, 4.3, 4.3, 4.3, 4.3, 4.3, 4.3, 4.3, 4.3, 4.3, 4.3, 4.3, 4.3, 4.3, 4.3, 4.3, 4.3, 4.3, 4.3, 4.3, 4.3, 4.3, 4.3, 4.3, 4.3, 4.3, 4.3, 4.3]}\n"
          ],
          "name": "stdout"
        }
      ]
    },
    {
      "cell_type": "code",
      "metadata": {
        "colab": {
          "base_uri": "https://localhost:8080/"
        },
        "id": "asnpIKF8AFlW",
        "outputId": "48703b52-b0a4-42df-ea9e-0b63ae178919"
      },
      "source": [
        "seed = 3\n",
        "history, champion = evolve(seed)\n",
        "print(history)"
      ],
      "execution_count": null,
      "outputs": [
        {
          "output_type": "stream",
          "text": [
            "finish training\n",
            "finish training\n",
            "[2/100] max fitness: 6.0\u001b[Kfinish training\n",
            "[3/100] max fitness: 6.0\u001b[Kfinish training\n",
            "[5/100] max fitness: 6.0\u001b[Kfinish training\n",
            "[14/100] max fitness: 6.0\u001b[Kfinish training\n",
            "[16/100] max fitness: 6.0\u001b[Kfinish training\n",
            "[18/100] max fitness: 6.0\u001b[Kfinish training\n",
            "[20/100] max fitness: 6.0\u001b[Kfinish training\n",
            "[22/100] max fitness: 6.0\u001b[Kfinish training\n",
            "[25/100] max fitness: 6.0\u001b[Kfinish training\n",
            "[30/100] max fitness: 6.0\u001b[Kfinish training\n",
            "[31/100] max fitness: 6.0\u001b[Kfinish training\n",
            "[32/100] max fitness: 6.0\u001b[Kfinish training\n",
            "[35/100] max fitness: 6.0\u001b[Kfinish training\n",
            "[36/100] max fitness: 6.0\u001b[Kfinish training\n",
            "[37/100] max fitness: 6.0\u001b[Kfinish training\n",
            "[38/100] max fitness: 6.0\u001b[Kfinish training\n",
            "[39/100] max fitness: 6.0\u001b[Kfinish training\n",
            "[43/100] max fitness: 6.0\u001b[Kfinish training\n",
            "[44/100] max fitness: 6.0\u001b[Kfinish training\n",
            "finish training\n",
            "finish training\n",
            "[45/100] max fitness: 6.0\u001b[Kfinish training\n",
            "[47/100] max fitness: 6.0\u001b[Kfinish training\n",
            "[48/100] max fitness: 6.0\u001b[Kfinish training\n",
            "[49/100] max fitness: 6.0\u001b[Kfinish training\n",
            "[50/100] max fitness: 6.0\u001b[Kfinish training\n",
            "finish training\n",
            "[51/100] max fitness: 6.0\u001b[Kfinish training\n",
            "finish training\n",
            "[52/100] max fitness: 6.0\u001b[Kfinish training\n",
            "finish training\n",
            "[53/100] max fitness: 6.0\u001b[Kfinish training\n",
            "finish training\n",
            "[54/100] max fitness: 6.0\u001b[Kfinish training\n",
            "finish training\n",
            "[55/100] max fitness: 6.0\u001b[Kfinish training\n",
            "[57/100] max fitness: 6.0\u001b[Kfinish training\n",
            "finish training\n",
            "[58/100] max fitness: 6.0\u001b[Kfinish training\n",
            "finish training\n",
            "[59/100] max fitness: 6.0\u001b[Kfinish training\n",
            "[60/100] max fitness: 6.0\u001b[Kfinish training\n",
            "finish training\n",
            "[62/100] max fitness: 6.0\u001b[Kfinish training\n",
            "[63/100] max fitness: 6.0\u001b[Kfinish training\n",
            "[64/100] max fitness: 6.0\u001b[Kfinish training\n",
            "[65/100] max fitness: 6.0\u001b[Kfinish training\n",
            "[72/100] max fitness: 6.0\u001b[Kfinish training\n",
            "finish training\n",
            "[73/100] max fitness: 6.0\u001b[Kfinish training\n",
            "[75/100] max fitness: 6.0\u001b[Kfinish training\n",
            "finish training\n",
            "[76/100] max fitness: 6.0\u001b[Kfinish training\n",
            "[78/100] max fitness: 6.0\u001b[Kfinish training\n",
            "finish training\n",
            "finish training\n",
            "[79/100] max fitness: 6.0\u001b[Kfinish training\n",
            "finish training\n",
            "finish training\n",
            "[80/100] max fitness: 6.0\u001b[Kfinish training\n",
            "[81/100] max fitness: 6.0\u001b[Kfinish training\n",
            "finish training\n",
            "finish training\n",
            "[82/100] max fitness: 6.0\u001b[Kfinish training\n",
            "finish training\n",
            "[83/100] max fitness: 6.0\u001b[Kfinish training\n",
            "finish training\n",
            "[84/100] max fitness: 6.0\u001b[Kfinish training\n",
            "finish training\n",
            "finish training\n",
            "[85/100] max fitness: 6.0\u001b[Kfinish training\n",
            "[86/100] max fitness: 6.0\u001b[Kfinish training\n",
            "finish training\n",
            "[87/100] max fitness: 6.0\u001b[Kfinish training\n",
            "finish training\n",
            "[89/100] max fitness: 6.0\u001b[Kfinish training\n",
            "[90/100] max fitness: 6.0\u001b[Kfinish training\n",
            "finish training\n",
            "[91/100] max fitness: 6.0\u001b[Kfinish training\n",
            "finish training\n",
            "finish training\n",
            "[92/100] max fitness: 6.0\u001b[K"
          ],
          "name": "stdout"
        }
      ]
    },
    {
      "cell_type": "code",
      "metadata": {
        "colab": {
          "base_uri": "https://localhost:8080/"
        },
        "id": "9VXivXvIweLf",
        "outputId": "6118c260-425b-4f85-ebb9-2fc967befd72"
      },
      "source": [
        "seed = 0\n",
        "history, champion = evolve(seed)\n",
        "print(history)"
      ],
      "execution_count": null,
      "outputs": [
        {
          "output_type": "stream",
          "text": [
            "finish training\n",
            "finish training\n",
            "[10/10] max fitness: 5.0\u001b[K\n",
            "{'expr_champion': [[-x_0 + x_3 + 1.0], [x_0], [x_0], [x_0], [x_0], [x_0], [x_0], [x_0], [x_0], [x_0]], 'fitness_champion': [5.0, 5.0, 5.0, 5.0, 5.0, 5.0, 5.0, 5.0, 5.0, 5.0]}\n"
          ],
          "name": "stdout"
        }
      ]
    },
    {
      "cell_type": "code",
      "metadata": {
        "colab": {
          "base_uri": "https://localhost:8080/"
        },
        "id": "eqyX5spOFWDL",
        "outputId": "ff49f6a5-0dcb-4af9-ebc5-bea3fe6d0513"
      },
      "source": [
        "seed = 1\n",
        "history, champion = evolve(seed)\n",
        "print(history)"
      ],
      "execution_count": null,
      "outputs": [
        {
          "output_type": "stream",
          "text": [
            "finish training\n",
            "finish training\n",
            "[6/10] max fitness: 5.0\u001b[Kfinish training\n",
            "[8/10] max fitness: 5.0\u001b[Kfinish training\n",
            "[10/10] max fitness: 5.0\u001b[K\n",
            "{'expr_champion': [[1.00000000000000], [1.00000000000000], [1.00000000000000], [1.00000000000000], [1.00000000000000], [1.00000000000000], [1.00000000000000], [1.00000000000000], [1.00000000000000], [1.00000000000000]], 'fitness_champion': [5.0, 5.0, 5.0, 5.0, 5.0, 5.0, 5.0, 5.0, 5.0, 5.0]}\n"
          ],
          "name": "stdout"
        }
      ]
    },
    {
      "cell_type": "code",
      "metadata": {
        "colab": {
          "base_uri": "https://localhost:8080/"
        },
        "id": "tKtEJDXzKXSn",
        "outputId": "13e47fca-9bbd-40c6-bc33-6ea19422e49d"
      },
      "source": [
        "seed = 2\n",
        "history, champion = evolve(seed)\n",
        "print(history)"
      ],
      "execution_count": null,
      "outputs": [
        {
          "output_type": "stream",
          "text": [
            "finish training\n",
            "finish training\n",
            "[3/10] max fitness: 4.0\u001b[Kfinish training\n",
            "[5/10] max fitness: 4.0\u001b[Kfinish training\n",
            "[6/10] max fitness: 4.0\u001b[Kfinish training\n",
            "[7/10] max fitness: 4.0\u001b[Kfinish training\n",
            "[8/10] max fitness: 4.0\u001b[Kfinish training\n",
            "finish training\n",
            "[9/10] max fitness: 4.0\u001b[Kfinish training\n",
            "[10/10] max fitness: 4.0\u001b[K\n",
            "{'expr_champion': [[1.0*x_2], [1.0*x_2], [1.0*x_2], [1.0*x_1], [1.0*x_2], [1.0*x_2], [1.0*x_2**2*x_4], [1.0*x_2**2*x_4], [1.0 - x_2], [1.0*x_2*(x_2 - x_4)]], 'fitness_champion': [4.0, 4.0, 4.0, 4.0, 4.0, 4.0, 4.0, 4.0, 4.0, 4.0]}\n"
          ],
          "name": "stdout"
        }
      ]
    },
    {
      "cell_type": "code",
      "metadata": {
        "colab": {
          "base_uri": "https://localhost:8080/"
        },
        "id": "S2d9P_3YNtgt",
        "outputId": "8cf708ef-6627-4480-ad40-cafeeb845876"
      },
      "source": [
        "seed = 3\n",
        "history, champion = evolve(seed)\n",
        "print(history)"
      ],
      "execution_count": null,
      "outputs": [
        {
          "output_type": "stream",
          "text": [
            "finish training\n",
            "finish training\n",
            "finish training\n",
            "[5/10] max fitness: 6.0\u001b[Kfinish training\n",
            "finish training\n",
            "[8/10] max fitness: 6.0\u001b[Kfinish training\n",
            "[10/10] max fitness: 6.0\u001b[K\n",
            "{'expr_champion': [[2*x_0*x_1 + x_1 + x_4], [0], [0], [0], [0], [1.0 - 1.0*x_0], [0], [0], [0], [0]], 'fitness_champion': [6.0, 6.0, 6.0, 6.0, 6.0, 6.0, 6.0, 6.0, 6.0, 6.0]}\n"
          ],
          "name": "stdout"
        }
      ]
    },
    {
      "cell_type": "code",
      "metadata": {
        "colab": {
          "base_uri": "https://localhost:8080/"
        },
        "id": "8qN3TI5NVI9y",
        "outputId": "e81e0d48-c25b-4a7a-8b1d-281f066e1a9f"
      },
      "source": [
        "seed = 4\n",
        "history, champion = evolve(seed)\n",
        "print(history)"
      ],
      "execution_count": null,
      "outputs": [
        {
          "output_type": "stream",
          "text": [
            "finish training\n",
            "finish training\n",
            "finish training\n",
            "[2/10] max fitness: 6.0\u001b[Kfinish training\n",
            "[5/10] max fitness: 6.0\u001b[Kfinish training\n",
            "[7/10] max fitness: 6.0\u001b[Kfinish training\n",
            "[8/10] max fitness: 8.0\u001b[Kfinish training\n",
            "[9/10] max fitness: 8.0\u001b[Kfinish training\n",
            "finish training\n",
            "[10/10] max fitness: 8.0\u001b[K\n",
            "{'expr_champion': [[x_3 + 1/(x_1*x_4)], [x_2/(x_3*x_4) + x_3], [x_3 + 1/(x_0*x_1)], [x_3 + 1/(x_0*x_1)], [x_3 + 1/(x_0*x_1)], [x_3 + 1.0*x_4], [x_3 + 1/(x_0*x_1)], [1.0*x_0*x_1 + x_3], [1.0*x_0*x_1 + x_3], [1.0*x_0*x_1 + x_3]], 'fitness_champion': [6.0, 6.0, 6.0, 6.0, 6.0, 6.0, 6.0, 8.0, 8.0, 8.0]}\n"
          ],
          "name": "stdout"
        }
      ]
    },
    {
      "cell_type": "markdown",
      "metadata": {
        "id": "5BhJyv_uz23E"
      },
      "source": [
        "==========================================="
      ]
    },
    {
      "cell_type": "code",
      "metadata": {
        "colab": {
          "base_uri": "https://localhost:8080/"
        },
        "id": "oFupJnPdHHgx",
        "outputId": "c17251d4-eebc-4f1d-aada-a3cd46ee1faa"
      },
      "source": [
        "seed = 1\n",
        "history, champion = evolve(seed)\n",
        "print(history)"
      ],
      "execution_count": null,
      "outputs": [
        {
          "output_type": "stream",
          "text": [
            "finish training\n",
            "finish training\n",
            "finish training\n",
            "finish training\n",
            "[3/10] max fitness: 19.0\u001b[Kfinish training\n",
            "[4/10] max fitness: 19.0\u001b[Kfinish training\n",
            "[5/10] max fitness: 19.0\u001b[Kfinish training\n",
            "finish training\n",
            "[6/10] max fitness: 19.0\u001b[Kfinish training\n",
            "[8/10] max fitness: 19.0\u001b[Kfinish training\n",
            "finish training\n",
            "[9/10] max fitness: 19.0\u001b[Kfinish training\n",
            "[10/10] max fitness: 19.0\u001b[K\n",
            "{'expr_champion': [[1.0*x_0 + 0.5], [1.0*x_0*x_1 + 1.0], [1.0*x_0*x_1 + 1.0], [1.0*x_0*x_1 + 1.0], [1.0*x_0*x_1 + 1.0], [1.0*x_0*x_1 + 1.0], [1.0*x_0*x_1 + 1.0], [1.0*x_0*x_1 + 1.0], [1.0*x_0*x_1 + 1.0], [1.0*x_0*x_1 + 1.0]], 'fitness_champion': [14.6, 19.0, 19.0, 19.0, 19.0, 19.0, 19.0, 19.0, 19.0, 19.0]}\n"
          ],
          "name": "stdout"
        }
      ]
    },
    {
      "cell_type": "code",
      "metadata": {
        "colab": {
          "base_uri": "https://localhost:8080/"
        },
        "id": "Tccd24RqfbPP",
        "outputId": "fead238b-e6ef-44d9-cc13-3581164d5555"
      },
      "source": [
        "seed = 2\n",
        "history, champion = evolve(seed)\n",
        "print(history)"
      ],
      "execution_count": null,
      "outputs": [
        {
          "output_type": "stream",
          "text": [
            "finish training\n",
            "finish training\n",
            "finish training\n",
            "[2/10] max fitness: 13.0\u001b[Kfinish training\n",
            "[4/10] max fitness: 13.0\u001b[Kfinish training\n",
            "[5/10] max fitness: 13.0\u001b[Kfinish training\n",
            "finish training\n",
            "[6/10] max fitness: 13.0\u001b[Kfinish training\n",
            "[8/10] max fitness: 13.0\u001b[Kfinish training\n",
            "[10/10] max fitness: 13.0\u001b[K\n",
            "{'expr_champion': [[(x_0 + x_1)*(-x_0 + 2*x_1**2 - x_1)/(2*x_1)], [-x_0*(x_0 + x_1) - x_0 - 2*x_1], [-x_0*x_1 - x_0 - 2*x_1], [-x_0*(x_0 + x_1) - x_0 - 2*x_1], [-x_0*(x_0 + x_1) - x_0 - 2*x_1], [(x_0 - x_1*(x_0*(x_0 + x_1) + 2*x_1) + x_1)/x_1], [(x_0 - x_1*(x_0*(x_0 + x_1) + 2*x_1) + x_1)/x_1], [(x_0 - x_1*(x_0*(x_0 + x_1) + 2*x_1) + x_1)/x_1], [(x_0 - x_1*(x_0*(x_0 + x_1) + 2*x_1) + x_1)/x_1], [(x_0 - x_1*(x_0*(x_0 + x_1) + 2*x_1) + x_1)/x_1]], 'fitness_champion': [13.0, 13.0, 13.0, 13.0, 13.0, 13.0, 13.0, 13.0, 13.0, 13.0]}\n"
          ],
          "name": "stdout"
        }
      ]
    },
    {
      "cell_type": "code",
      "metadata": {
        "colab": {
          "base_uri": "https://localhost:8080/"
        },
        "id": "IU2T8EiLvZXx",
        "outputId": "991719d2-1263-4f60-b213-2c0553930f53"
      },
      "source": [
        "seed = 3\n",
        "history, champion = evolve(seed)\n",
        "print(history)"
      ],
      "execution_count": null,
      "outputs": [
        {
          "output_type": "stream",
          "text": [
            "finish training\n",
            "finish training\n",
            "finish training\n",
            "[4/10] max fitness: 17.0\u001b[Kfinish training\n",
            "[9/10] max fitness: 17.0\u001b[Kfinish training\n",
            "[10/10] max fitness: 17.0\u001b[K\n",
            "{'expr_champion': [[0], [x_1*(x_0 + 1)/(4*x_0)], [0], [0], [0], [0], [0], [0], [0], [0]], 'fitness_champion': [17.0, 17.0, 17.0, 17.0, 17.0, 17.0, 17.0, 17.0, 17.0, 17.0]}\n"
          ],
          "name": "stdout"
        }
      ]
    },
    {
      "cell_type": "code",
      "metadata": {
        "colab": {
          "base_uri": "https://localhost:8080/"
        },
        "id": "xkzfiLnFdts_",
        "outputId": "cc3967c3-ff70-4564-a90e-793b63fd4d14"
      },
      "source": [
        "seed = 4\n",
        "history, champion = evolve(seed)\n",
        "print(history)"
      ],
      "execution_count": null,
      "outputs": [
        {
          "output_type": "stream",
          "text": [
            "finish training\n",
            "finish training\n",
            "finish training\n",
            "[4/10] max fitness: 22.9\u001b[Kfinish training\n",
            "[6/10] max fitness: 28.0\u001b[Kfinish training\n",
            "[9/10] max fitness: 28.0\u001b[Kfinish training\n",
            "[10/10] max fitness: 28.0\u001b[K\n",
            "{'expr_champion': [[x_1*(x_0 + 1)], [x_1*(x_0 + 1)], [x_1*(x_0 + 1)], [x_1*(x_0 + 1)], [x_0*x_1*(x_0 + 1)*(x_0 - x_1)*(2*x_0 - x_1)], [x_0*x_1*(x_0 + 1)*(x_0 - x_1)*(2*x_0 - x_1)], [x_0*x_1*(x_0 + 1)*(x_0 - x_1)*(2*x_0 - x_1)], [x_0*x_1*(x_0 + 1)*(x_0 - x_1)*(2*x_0 - x_1)], [x_0*x_1*(x_0 + 1)*(x_0 - x_1)*(2*x_0 - x_1)], [x_0*x_1*(x_0 + 1)*(x_0 - x_1)*(2*x_0 - x_1)]], 'fitness_champion': [22.9, 22.9, 22.9, 22.9, 28.0, 28.0, 28.0, 28.0, 28.0, 28.0]}\n"
          ],
          "name": "stdout"
        }
      ]
    },
    {
      "cell_type": "code",
      "metadata": {
        "colab": {
          "base_uri": "https://localhost:8080/"
        },
        "id": "KKu0e6j3uU_g",
        "outputId": "bdf566d5-d012-42d1-e03b-3f3454cc0aca"
      },
      "source": [
        "seed = 5\n",
        "history, champion = evolve(seed)\n",
        "print(history)"
      ],
      "execution_count": null,
      "outputs": [
        {
          "output_type": "stream",
          "text": [
            "finish training\n",
            "finish training\n",
            "finish training\n",
            "[2/10] max fitness: 17.0\u001b[Kfinish training\n",
            "[3/10] max fitness: 17.0\u001b[Kfinish training\n",
            "[4/10] max fitness: 17.0\u001b[Kfinish training\n",
            "[6/10] max fitness: 17.0\u001b[Kfinish training\n",
            "[9/10] max fitness: 17.0\u001b[Kfinish training\n",
            "finish training\n",
            "[10/10] max fitness: 17.0\u001b[K\n",
            "{'expr_champion': [[1.00000000000000], [1.00000000000000], [1.00000000000000], [1.00000000000000], [1.00000000000000], [1.00000000000000], [1.00000000000000], [1.00000000000000], [1.00000000000000], [1.00000000000000]], 'fitness_champion': [17.0, 17.0, 17.0, 17.0, 17.0, 17.0, 17.0, 17.0, 17.0, 17.0]}\n"
          ],
          "name": "stdout"
        }
      ]
    },
    {
      "cell_type": "code",
      "metadata": {
        "colab": {
          "base_uri": "https://localhost:8080/"
        },
        "id": "HT2QiwkZUh9w",
        "outputId": "49c0629f-2840-4c54-e3e6-3e5a201736de"
      },
      "source": [
        "seed = 6\n",
        "history, champion = evolve(seed)\n",
        "print(history)"
      ],
      "execution_count": null,
      "outputs": [
        {
          "output_type": "stream",
          "text": [
            "finish training\n",
            "finish training\n",
            "finish training\n",
            "[3/10] max fitness: 29.0\u001b[Kfinish training\n",
            "[4/10] max fitness: 29.0\u001b[Kfinish training\n",
            "[10/10] max fitness: 29.0\u001b[K\n",
            "{'expr_champion': [[x_1*(x_1 - 1)], [x_1*(x_0 - 1)], [x_1*(x_0 - 1)], [x_1*(x_0 - 1)], [x_1*(x_0 - 1)], [x_1*(x_0 - 1)], [x_1*(x_0 - 1)], [x_1*(x_0 - 1)], [x_1*(x_0 - 1)], [x_1*(x_0 - 1)]], 'fitness_champion': [15.0, 29.0, 29.0, 29.0, 29.0, 29.0, 29.0, 29.0, 29.0, 29.0]}\n"
          ],
          "name": "stdout"
        }
      ]
    },
    {
      "cell_type": "code",
      "metadata": {
        "colab": {
          "base_uri": "https://localhost:8080/"
        },
        "id": "5GKUUgVKmo0i",
        "outputId": "f81a63a7-fd66-47cd-867a-773da84d7cd7"
      },
      "source": [
        "seed = 7\n",
        "history, champion = evolve(seed)\n",
        "print(history)"
      ],
      "execution_count": null,
      "outputs": [
        {
          "output_type": "stream",
          "text": [
            "finish training\n",
            "finish training\n",
            "[8/10] max fitness: 13.0\u001b[Kfinish training\n",
            "[10/10] max fitness: 16.1\u001b[K\n",
            "{'expr_champion': [[1.00000000000000], [1.00000000000000], [1.00000000000000], [1.00000000000000], [1.00000000000000], [1.00000000000000], [1.00000000000000], [1.00000000000000], [1.0*x_0 - x_1], [1.0*x_0 - x_1]], 'fitness_champion': [13.0, 13.0, 13.0, 13.0, 13.0, 13.0, 13.0, 13.0, 16.1, 16.1]}\n"
          ],
          "name": "stdout"
        }
      ]
    },
    {
      "cell_type": "code",
      "metadata": {
        "colab": {
          "base_uri": "https://localhost:8080/"
        },
        "id": "ntRmCjL6SyMq",
        "outputId": "a96e51f8-da33-4cfe-f807-02eb431c6270"
      },
      "source": [
        "seed = 8\n",
        "history, champion = evolve(seed)\n",
        "print(history)"
      ],
      "execution_count": null,
      "outputs": [
        {
          "output_type": "stream",
          "text": [
            "finish training\n",
            "finish training\n",
            "[2/10] max fitness: 12.0\u001b[Kfinish training\n",
            "[3/10] max fitness: 12.0\u001b[Kfinish training\n",
            "finish training\n",
            "[5/10] max fitness: 12.0\u001b[Kfinish training\n",
            "[7/10] max fitness: 12.0\u001b[Kfinish training\n",
            "[9/10] max fitness: 12.0\u001b[Kfinish training\n",
            "finish training\n",
            "[10/10] max fitness: 12.0\u001b[K\n",
            "{'expr_champion': [[-x_0**2/x_1 + x_1], [0], [0], [0], [0], [0], [0], [0], [0], [0]], 'fitness_champion': [12.0, 12.0, 12.0, 12.0, 12.0, 12.0, 12.0, 12.0, 12.0, 12.0]}\n"
          ],
          "name": "stdout"
        }
      ]
    },
    {
      "cell_type": "code",
      "metadata": {
        "colab": {
          "base_uri": "https://localhost:8080/"
        },
        "id": "7nHudw-su6ia",
        "outputId": "647a5c50-0622-4922-bb6a-aeee6224b05c"
      },
      "source": [
        "seed = 9\n",
        "history, champion = evolve(seed)\n",
        "print(history)"
      ],
      "execution_count": null,
      "outputs": [
        {
          "output_type": "stream",
          "text": [
            "finish training\n",
            "finish training\n",
            "finish training\n",
            "[6/10] max fitness: 18.0\u001b[Kfinish training\n",
            "finish training\n",
            "[7/10] max fitness: 18.0\u001b[Kfinish training\n",
            "[9/10] max fitness: 18.0\u001b[Kfinish training\n",
            "[10/10] max fitness: 18.0\u001b[K\n",
            "{'expr_champion': [[x_0 - 2.0], [1/x_1], [x_0 - x_1 - 1.0], [x_0 - x_1 - 1.0], [x_0 - x_1 - 1.0], [x_0 - x_1 - 1.0], [x_0 - x_1 - 1.0], [x_0 - 2.0], [x_0 - x_1 - 1.0], [x_0 - x_1 - 1.0]], 'fitness_champion': [18.0, 18.0, 18.0, 18.0, 18.0, 18.0, 18.0, 18.0, 18.0, 18.0]}\n"
          ],
          "name": "stdout"
        }
      ]
    },
    {
      "cell_type": "code",
      "metadata": {
        "colab": {
          "base_uri": "https://localhost:8080/"
        },
        "id": "nP8xmMsaARN8",
        "outputId": "e66b5240-902c-49bc-98d8-3bda4f32a28e"
      },
      "source": [
        "seed = 10\n",
        "history, champion = evolve(seed)\n",
        "print(history)"
      ],
      "execution_count": null,
      "outputs": [
        {
          "output_type": "stream",
          "text": [
            "finish training\n",
            "finish training\n",
            "finish training\n",
            "[2/10] max fitness: 16.0\u001b[Kfinish training\n",
            "[3/10] max fitness: 22.0\u001b[Kfinish training\n",
            "[4/10] max fitness: 22.0\u001b[Kfinish training\n",
            "finish training\n",
            "[5/10] max fitness: 22.0\u001b[Kfinish training\n",
            "[7/10] max fitness: 22.0\u001b[Kfinish training\n",
            "[10/10] max fitness: 22.0\u001b[K\n",
            "{'expr_champion': [[x_0*x_1 + x_1 - 1.0], [x_0 - 1.0], [x_1], [x_1], [x_1], [x_1], [x_1], [x_1], [x_1], [x_1]], 'fitness_champion': [16.0, 16.0, 22.0, 22.0, 22.0, 22.0, 22.0, 22.0, 22.0, 22.0]}\n"
          ],
          "name": "stdout"
        }
      ]
    },
    {
      "cell_type": "code",
      "metadata": {
        "colab": {
          "base_uri": "https://localhost:8080/"
        },
        "id": "DVkK4W7-BUOP",
        "outputId": "d706856b-382b-4fe3-fa49-fe6dca352835"
      },
      "source": [
        "seed = 6\n",
        "history, champion = evolve(seed)\n",
        "print(history)"
      ],
      "execution_count": null,
      "outputs": [
        {
          "output_type": "stream",
          "text": [
            "finish training\n",
            "finish training\n",
            "finish training\n",
            "[3/10] max fitness: 18.0\u001b[Kfinish training\n",
            "[4/10] max fitness: 18.0\u001b[Kfinish training\n",
            "[10/10] max fitness: 18.0\u001b[K\n",
            "{'expr_champion': [[x_1*(x_1 - 1)], [x_1*(x_0 - 1)], [x_1*(x_0 - 1)], [x_1*(x_0 - 1)], [x_1*(x_0 - 1)], [x_1*(x_0 - 1)], [x_1*(x_0 - 1)], [x_1*(x_0 - 1)], [x_1*(x_0 - 1)], [x_1*(x_0 - 1)]], 'fitness_champion': [14.0, 18.0, 18.0, 18.0, 18.0, 18.0, 18.0, 18.0, 18.0, 18.0]}\n"
          ],
          "name": "stdout"
        }
      ]
    },
    {
      "cell_type": "code",
      "metadata": {
        "colab": {
          "base_uri": "https://localhost:8080/"
        },
        "id": "vQBbHEzunhDm",
        "outputId": "2aa0d0ac-17a4-4cc2-b74e-8b2d309311ed"
      },
      "source": [
        "seed = 7\n",
        "history, champion = evolve(seed)\n",
        "print(history)"
      ],
      "execution_count": null,
      "outputs": [
        {
          "output_type": "stream",
          "text": [
            "finish training\n",
            "finish training\n",
            "[8/10] max fitness: 15.0\u001b[Kfinish training\n",
            "[10/10] max fitness: 15.0\u001b[K\n",
            "{'expr_champion': [[1.00000000000000], [1.00000000000000], [1.00000000000000], [1.00000000000000], [1.00000000000000], [1.00000000000000], [1.00000000000000], [1.00000000000000], [1.00000000000000], [1.00000000000000]], 'fitness_champion': [15.0, 15.0, 15.0, 15.0, 15.0, 15.0, 15.0, 15.0, 15.0, 15.0]}\n"
          ],
          "name": "stdout"
        }
      ]
    },
    {
      "cell_type": "code",
      "metadata": {
        "colab": {
          "base_uri": "https://localhost:8080/"
        },
        "id": "BlQfXLHnn5lL",
        "outputId": "772e59db-4012-4d4c-e236-93a5820e17a4"
      },
      "source": [
        "seed = 8\n",
        "history, champion = evolve(seed)\n",
        "print(history)"
      ],
      "execution_count": null,
      "outputs": [
        {
          "output_type": "stream",
          "text": [
            "finish training\n",
            "finish training\n",
            "[2/10] max fitness: 14.0\u001b[Kfinish training\n",
            "[3/10] max fitness: 14.0\u001b[Kfinish training\n",
            "finish training\n",
            "[4/10] max fitness: 14.0\u001b[Kfinish training\n",
            "[5/10] max fitness: 14.0\u001b[Kfinish training\n",
            "[7/10] max fitness: 14.0\u001b[Kfinish training\n",
            "[8/10] max fitness: 14.0\u001b[K"
          ],
          "name": "stdout"
        }
      ]
    },
    {
      "cell_type": "code",
      "metadata": {
        "colab": {
          "base_uri": "https://localhost:8080/"
        },
        "id": "rxbV-H__CcN1",
        "outputId": "339f7fc0-7a98-4c27-d908-9b27c711e783"
      },
      "source": [
        "seed = 9\n",
        "history, champion = evolve(seed)\n",
        "print(history)"
      ],
      "execution_count": null,
      "outputs": [
        {
          "output_type": "stream",
          "text": [
            "finish training\n",
            "finish training\n",
            "finish training\n",
            "[6/10] max fitness: 16.0\u001b[Kfinish training\n",
            "finish training\n",
            "[7/10] max fitness: 16.0\u001b[Kfinish training\n",
            "[9/10] max fitness: 18.0\u001b[Kfinish training\n",
            "[10/10] max fitness: 18.0\u001b[K\n",
            "{'expr_champion': [[x_0 - 2.0], [1/x_1], [x_0 - x_1 - 1.0], [x_0 - x_1 - 1.0], [x_0 - x_1 - 1.0], [x_0 - x_1 - 1.0], [x_0 - x_1 - 1.0], [1.00000000000000], [1.00000000000000], [1.00000000000000]], 'fitness_champion': [16.0, 16.0, 16.0, 16.0, 16.0, 16.0, 16.0, 18.0, 18.0, 18.0]}\n"
          ],
          "name": "stdout"
        }
      ]
    },
    {
      "cell_type": "code",
      "metadata": {
        "colab": {
          "background_save": true,
          "base_uri": "https://localhost:8080/"
        },
        "id": "KDlR16s9qUSp",
        "outputId": "97400042-ec4a-45f0-882b-ed0819e8916c"
      },
      "source": [
        "seed = 10\n",
        "history, champion = evolve(seed)\n",
        "print(history)"
      ],
      "execution_count": null,
      "outputs": [
        {
          "output_type": "stream",
          "text": [
            "finish training\n",
            "finish training\n",
            "finish training\n",
            "[2/10] max fitness: 17.0\u001b[Kfinish training\n",
            "[3/10] max fitness: 17.0\u001b[Kfinish training\n",
            "[4/10] max fitness: 17.0\u001b[Kfinish training\n",
            "finish training\n",
            "[7/10] max fitness: 17.0\u001b[Kfinish training\n",
            "[9/10] max fitness: 17.0\u001b[Kfinish training\n",
            "[10/10] max fitness: 17.0\u001b[K\n",
            "{'expr_champion': [[x_0*x_1 + x_1 - 1.0], [x_0 - 1.0], [x_0*x_1 + x_1 - 1.0], [x_0 - 1.0], [(x_1 - 1.0)/(x_0 - x_1)], [x_0 - 1.0], [(x_1 - 1.0)/(x_0 - x_1)], [(x_1 - 1.0)/(x_0 - x_1)], [(x_1 - 1.0)/(x_0 - x_1)], [(x_1 - 1.0)/(x_0 - x_1)]], 'fitness_champion': [17.0, 17.0, 17.0, 17.0, 17.0, 17.0, 17.0, 17.0, 17.0, 17.0]}\n"
          ],
          "name": "stdout"
        }
      ]
    },
    {
      "cell_type": "markdown",
      "metadata": {
        "id": "ia7YWrSxRQMJ"
      },
      "source": [
        "## ================================================="
      ]
    },
    {
      "cell_type": "code",
      "metadata": {
        "colab": {
          "base_uri": "https://localhost:8080/"
        },
        "id": "mNCgjXOdyxvI",
        "outputId": "2524edc6-e2fc-46c3-f46a-a8ee59e1ffa6"
      },
      "source": [
        "fitness = 0\n",
        "nexp = 3\n",
        "for exp in range(nexp): \n",
        "  torch.manual_seed(exp)\n",
        "  data = torch.rand(M, T, N).le(F / 1000).float()\n",
        "  targets = torch.rand(M).gt(0.5).int()\n",
        "  traces = []\n",
        "  # ugly\n",
        "  for i in range(data.shape[1]):\n",
        "      if i == 0:\n",
        "          traces.append(data[:, i, :])\n",
        "      else:\n",
        "          trace = traces[-1] * O_DECAY + data[:, i, :]  #*(1 - O_DECAY)\n",
        "          traces.append(trace)\n",
        "  traces = torch.stack(traces, dim=1)\n",
        "  param = {}\n",
        "  # weights from N(0, 1000) like in paper, sparsity of 0.2 (20% of connections zero)\n",
        "  param[\"W\"] = torch.randn(1, N) * 7 * (torch.rand(1, N) < 0.8).float()\n",
        "  #print(param)\n",
        "  acc = []\n",
        "  fit = []\n",
        "  ne = 200\n",
        "  nf = 10\n",
        "  for e in range(ne):\n",
        "      correct = 0\n",
        "      ytab = []\n",
        "      for i in range(M):#(M):\n",
        "          s = None\n",
        "          y = 0\n",
        "          E = None  # trace from paper\n",
        "          for t in range(T): #T\n",
        "              if E is None:\n",
        "                  E = torch.zeros_like(param[\"W\"])\n",
        "              z, s = forward(data[i, t], s, param)\n",
        "              y += z\n",
        "              xi = traces[i, t] * z + s[3] * data[i, t] \n",
        "              E = E * E_DECAY + xi  #E = E * E_DECAY + (traces[i, t] * s[3]）  # no (1 - E_DECAY)\n",
        "              reward = get_reward(z, targets[i])\n",
        "              param = learn(param, E, reward)\n",
        "          ytab.append(y.item())\n",
        "          \n",
        "      predictions = torch.Tensor([1 if n > sum(ytab)/M else 0 for n in ytab])\n",
        "      correct = int(M-sum(abs(predictions-targets)).item())\n",
        "      acc.append(correct/M)\n",
        "      #print(f\"epoch {e}: {correct}/{M}\")\n",
        "      if e >= (ne - nf):\n",
        "        fit.append(correct)\n",
        "  fitness += sum(fit)/nf        \n",
        "fitness = fitness/nexp\n",
        "print(fitness)"
      ],
      "execution_count": null,
      "outputs": [
        {
          "output_type": "stream",
          "text": [
            "19.599999999999998\n"
          ],
          "name": "stdout"
        }
      ]
    },
    {
      "cell_type": "markdown",
      "metadata": {
        "id": "6bCA6QEwk-K5"
      },
      "source": [
        "\n",
        "\n",
        "\n",
        "\n",
        "\n",
        "\n",
        "\n",
        "\n",
        "\n",
        "\n",
        "\n",
        "\n",
        "\n",
        "r54## GOOD RESULTS"
      ]
    },
    {
      "cell_type": "markdown",
      "metadata": {
        "id": "fCcNT7Ti7o5q"
      },
      "source": [
        "## Test =====================================...................."
      ]
    }
  ]
}